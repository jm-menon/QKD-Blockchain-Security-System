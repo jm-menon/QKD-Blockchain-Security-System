{
  "nbformat": 4,
  "nbformat_minor": 0,
  "metadata": {
    "colab": {
      "provenance": [],
      "include_colab_link": true
    },
    "kernelspec": {
      "name": "python3",
      "display_name": "Python 3"
    },
    "language_info": {
      "name": "python"
    }
  },
  "cells": [
    {
      "cell_type": "markdown",
      "metadata": {
        "id": "view-in-github",
        "colab_type": "text"
      },
      "source": [
        "<a href=\"https://colab.research.google.com/github/jm-menon/QKD-Blockchain-Security-System/blob/main/qkd_aes.ipynb\" target=\"_parent\"><img src=\"https://colab.research.google.com/assets/colab-badge.svg\" alt=\"Open In Colab\"/></a>"
      ]
    },
    {
      "cell_type": "code",
      "source": [
        "#IMPLEMENTATION OF AES WITH QKD KEY ON TEXT\n",
        "\n",
        "import os\n",
        "import random\n",
        "from cryptography.hazmat.primitives.ciphers import Cipher, algorithms, modes\n",
        "from cryptography.hazmat.backends import default_backend\n",
        "from cryptography.hazmat.primitives import padding\n",
        "\n",
        "\n",
        "# Simulated QKD key exchange (still a simplification)\n",
        "def simulate_qkd(key_size):\n",
        "    alice_key = os.urandom(key_size // 8)\n",
        "    bob_key = os.urandom(key_size // 8)\n",
        "\n",
        "    # Incorporate a more realistic error simulation\n",
        "    error_rate = 0.05  # Assume a 5% error rate\n",
        "    num_errors = int(error_rate * len(alice_key))\n",
        "    error_positions = random.sample(range(len(alice_key)), num_errors)\n",
        "    for i in error_positions:\n",
        "        alice_key[i] = 1 - alice_key[i]  # Flip bits for errors\n",
        "\n",
        "    # Basic error correction (example, not robust)\n",
        "    alice_corrected = correct_errors(alice_key, bob_key)\n",
        "\n",
        "    return alice_corrected, bob_key\n",
        "\n",
        "\n",
        "# Function to correct errors (basic example, not secure for real-world QKD)\n",
        "def correct_errors(alice_key, bob_key):\n",
        "    corrected_key = bytearray(alice_key)\n",
        "    for i in range(len(alice_key)):\n",
        "        if alice_key[i] != bob_key[i]:\n",
        "            corrected_key[i] = bob_key[i]  # Assume Bob's key is correct\n",
        "    return corrected_key\n",
        "\n",
        "\n",
        "# AES encryption function with padding\n",
        "def encrypt(message, key):\n",
        "    backend = default_backend()\n",
        "    padder = padding.PKCS7(algorithms.AES.block_size).padder()\n",
        "    padded_data = padder.update(message) + padder.finalize()\n",
        "    cipher = Cipher(algorithms.AES(key), modes.ECB(), backend=backend)\n",
        "    encryptor = cipher.encryptor()\n",
        "    ciphertext = encryptor.update(padded_data) + encryptor.finalize()\n",
        "    return ciphertext\n",
        "\n",
        "# AES decryption function with unpadding\n",
        "def decrypt(ciphertext, key):\n",
        "    backend = default_backend()\n",
        "    cipher = Cipher(algorithms.AES(key), modes.ECB(), backend=backend)\n",
        "    decryptor = cipher.decryptor()\n",
        "    padded_data = decryptor.update(ciphertext) + decryptor.finalize()\n",
        "    unpadder = padding.PKCS7(algorithms.AES.block_size).unpadder()\n",
        "    data = unpadder.update(padded_data) + unpadder.finalize()\n",
        "    return data\n",
        "  # Example usage (with user input)\n",
        "key_size = 128\n",
        "encryption_key, _ = simulate_qkd(key_size)\n",
        "\n",
        "user_message = input(\"Enter the message to encrypt: \")\n",
        "message = user_message.encode()  # Convert to bytes for encryption\n",
        "\n",
        "ciphertext = encrypt(message, encryption_key)\n",
        "print(\"Ciphertext:\", ciphertext)\n",
        "\n",
        "decrypted_message = decrypt(ciphertext, encryption_key)\n",
        "print(\"Decrypted message:\", decrypted_message.decode())"
      ],
      "metadata": {
        "colab": {
          "base_uri": "https://localhost:8080/"
        },
        "id": "LqG6PBbGKW85",
        "outputId": "f69d6842-5a10-4977-c712-bae5c21c84e0"
      },
      "execution_count": null,
      "outputs": [
        {
          "output_type": "stream",
          "name": "stdout",
          "text": [
            "Enter the message to encrypt: hi\n",
            "Ciphertext: b'-\\x1a\\x90v\\xca\\x14\\xa6k\\xfbl.\\xbe\\xfb \\x9a\\xb1'\n",
            "Decrypted message: hi\n"
          ]
        }
      ]
    }
  ]
}