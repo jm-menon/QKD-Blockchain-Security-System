{
  "nbformat": 4,
  "nbformat_minor": 0,
  "metadata": {
    "colab": {
      "provenance": [],
      "include_colab_link": true
    },
    "kernelspec": {
      "name": "python3",
      "display_name": "Python 3"
    },
    "language_info": {
      "name": "python"
    }
  },
  "cells": [
    {
      "cell_type": "markdown",
      "metadata": {
        "id": "view-in-github",
        "colab_type": "text"
      },
      "source": [
        "<a href=\"https://colab.research.google.com/github/jm-menon/QKD-Blockchain-Security-System/blob/main/qkd_aes.ipynb\" target=\"_parent\"><img src=\"https://colab.research.google.com/assets/colab-badge.svg\" alt=\"Open In Colab\"/></a>"
      ]
    },
    {
      "cell_type": "code",
      "source": [
        "#IMPLEMENTATION OF AES WITH QKD KEY ON TEXT\n",
        "\n",
        "import os\n",
        "import random\n",
        "from cryptography.hazmat.primitives.ciphers import Cipher, algorithms, modes\n",
        "from cryptography.hazmat.backends import default_backend\n",
        "from cryptography.hazmat.primitives import padding\n",
        "\n",
        "\n",
        "# Simulated QKD key exchange (still a simplification)\n",
        "def simulate_qkd(key_size):\n",
        "    alice_key = os.urandom(key_size // 8)\n",
        "    bob_key = os.urandom(key_size // 8)\n",
        "\n",
        "    # Incorporate a more realistic error simulation\n",
        "    error_rate = 0.05  # Assume a 5% error rate\n",
        "    num_errors = int(error_rate * len(alice_key))\n",
        "    error_positions = random.sample(range(len(alice_key)), num_errors)\n",
        "    for i in error_positions:\n",
        "        alice_key[i] = 1 - alice_key[i]  # Flip bits for errors\n",
        "\n",
        "    # Basic error correction (example, not robust)\n",
        "    alice_corrected = correct_errors(alice_key, bob_key)\n",
        "\n",
        "    return alice_corrected, bob_key\n",
        "\n",
        "\n",
        "# Function to correct errors (basic example, not secure for real-world QKD)\n",
        "def correct_errors(alice_key, bob_key):\n",
        "    corrected_key = bytearray(alice_key)\n",
        "    for i in range(len(alice_key)):\n",
        "        if alice_key[i] != bob_key[i]:\n",
        "            corrected_key[i] = bob_key[i]  # Assume Bob's key is correct\n",
        "    return corrected_key\n",
        "\n",
        "\n",
        "# AES encryption function with padding\n",
        "def encrypt(message, key):\n",
        "    backend = default_backend()\n",
        "    padder = padding.PKCS7(algorithms.AES.block_size).padder()\n",
        "    padded_data = padder.update(message) + padder.finalize()\n",
        "    cipher = Cipher(algorithms.AES(key), modes.ECB(), backend=backend)\n",
        "    encryptor = cipher.encryptor()\n",
        "    ciphertext = encryptor.update(padded_data) + encryptor.finalize()\n",
        "    return ciphertext\n",
        "\n",
        "# AES decryption function with unpadding\n",
        "def decrypt(ciphertext, key):\n",
        "    backend = default_backend()\n",
        "    cipher = Cipher(algorithms.AES(key), modes.ECB(), backend=backend)\n",
        "    decryptor = cipher.decryptor()\n",
        "    padded_data = decryptor.update(ciphertext) + decryptor.finalize()\n",
        "    unpadder = padding.PKCS7(algorithms.AES.block_size).unpadder()\n",
        "    data = unpadder.update(padded_data) + unpadder.finalize()\n",
        "    return data\n",
        "  # Example usage (with user input)\n",
        "key_size = 128\n",
        "encryption_key, _ = simulate_qkd(key_size)\n",
        "\n",
        "user_message = input(\"Enter the message to encrypt: \")\n",
        "message = user_message.encode()  # Convert to bytes for encryption\n",
        "\n",
        "ciphertext = encrypt(message, encryption_key)\n",
        "print(\"Ciphertext:\", ciphertext)\n",
        "\n",
        "decrypted_message = decrypt(ciphertext, encryption_key)\n",
        "print(\"Decrypted message:\", decrypted_message.decode())"
      ],
      "metadata": {
        "colab": {
          "base_uri": "https://localhost:8080/"
        },
        "id": "LqG6PBbGKW85",
        "outputId": "7d405649-ca38-41e2-e430-1162a46b918b"
      },
      "execution_count": null,
      "outputs": [
        {
          "output_type": "stream",
          "name": "stdout",
          "text": [
            "Enter the message to encrypt: hello\n",
            "Ciphertext: b'3\\x18\\xf4\\x80\\xb8Tm\\xc8\\xc0\\x18KP\\xd2\\xd9v\\xd3'\n",
            "Decrypted message: hello\n"
          ]
        }
      ]
    },
    {
      "cell_type": "code",
      "source": [
        "!pip install web3\n",
        "#Created the Error: tensorflow-metadata 1.14.0 requires protobuf<4.21,>=3.20.3, but you have protobuf 4.25.3 which is incompatible.\n",
        "#but still installed the package."
      ],
      "metadata": {
        "id": "mDYW9baqLns6"
      },
      "execution_count": null,
      "outputs": []
    },
    {
      "cell_type": "code",
      "source": [
        "import web3"
      ],
      "metadata": {
        "id": "VJPoWC8rb2Dm"
      },
      "execution_count": null,
      "outputs": []
    },
    {
      "cell_type": "code",
      "source": [
        "!pip install py-solc-x"
      ],
      "metadata": {
        "colab": {
          "base_uri": "https://localhost:8080/"
        },
        "id": "_6fuVtj9b8Bj",
        "outputId": "357be150-2afe-4d14-f7b9-e56ed8c44e5f"
      },
      "execution_count": null,
      "outputs": [
        {
          "output_type": "stream",
          "name": "stdout",
          "text": [
            "Collecting py-solc-x\n",
            "  Downloading py_solc_x-2.0.2-py3-none-any.whl (18 kB)\n",
            "Requirement already satisfied: requests<3,>=2.19.0 in /usr/local/lib/python3.10/dist-packages (from py-solc-x) (2.31.0)\n",
            "Requirement already satisfied: packaging<24,>=23.1 in /usr/local/lib/python3.10/dist-packages (from py-solc-x) (23.2)\n",
            "Requirement already satisfied: charset-normalizer<4,>=2 in /usr/local/lib/python3.10/dist-packages (from requests<3,>=2.19.0->py-solc-x) (3.3.2)\n",
            "Requirement already satisfied: idna<4,>=2.5 in /usr/local/lib/python3.10/dist-packages (from requests<3,>=2.19.0->py-solc-x) (3.6)\n",
            "Requirement already satisfied: urllib3<3,>=1.21.1 in /usr/local/lib/python3.10/dist-packages (from requests<3,>=2.19.0->py-solc-x) (2.0.7)\n",
            "Requirement already satisfied: certifi>=2017.4.17 in /usr/local/lib/python3.10/dist-packages (from requests<3,>=2.19.0->py-solc-x) (2024.2.2)\n",
            "Installing collected packages: py-solc-x\n",
            "Successfully installed py-solc-x-2.0.2\n"
          ]
        }
      ]
    },
    {
      "cell_type": "code",
      "source": [
        "from solcx import install_solc"
      ],
      "metadata": {
        "id": "rptHacmOdWwo"
      },
      "execution_count": null,
      "outputs": []
    },
    {
      "cell_type": "code",
      "source": [
        "from solcx import install_solc\n",
        "solcx.install_solc"
      ],
      "metadata": {
        "colab": {
          "base_uri": "https://localhost:8080/",
          "height": 159
        },
        "id": "7_mF27KKhc42",
        "outputId": "b7ef69f2-84d2-4e7d-f2a5-767994a6ee85"
      },
      "execution_count": null,
      "outputs": [
        {
          "output_type": "error",
          "ename": "NameError",
          "evalue": "name 'solcx' is not defined",
          "traceback": [
            "\u001b[0;31m---------------------------------------------------------------------------\u001b[0m",
            "\u001b[0;31mNameError\u001b[0m                                 Traceback (most recent call last)",
            "\u001b[0;32m<ipython-input-12-70dc51e56d7a>\u001b[0m in \u001b[0;36m<cell line: 2>\u001b[0;34m()\u001b[0m\n\u001b[1;32m      1\u001b[0m \u001b[0;32mfrom\u001b[0m \u001b[0msolcx\u001b[0m \u001b[0;32mimport\u001b[0m \u001b[0minstall_solc\u001b[0m\u001b[0;34m\u001b[0m\u001b[0;34m\u001b[0m\u001b[0m\n\u001b[0;32m----> 2\u001b[0;31m \u001b[0msolcx\u001b[0m\u001b[0;34m.\u001b[0m\u001b[0minstall_solc\u001b[0m\u001b[0;34m\u001b[0m\u001b[0;34m\u001b[0m\u001b[0m\n\u001b[0m",
            "\u001b[0;31mNameError\u001b[0m: name 'solcx' is not defined"
          ]
        }
      ]
    },
    {
      "cell_type": "code",
      "source": [
        "from solcx import compile_standard"
      ],
      "metadata": {
        "id": "XDKoxzk3fAmm"
      },
      "execution_count": null,
      "outputs": []
    },
    {
      "cell_type": "code",
      "source": [
        "from solcx import compile_source"
      ],
      "metadata": {
        "id": "E9AE36KTgshg"
      },
      "execution_count": null,
      "outputs": []
    },
    {
      "cell_type": "code",
      "source": [
        "import hashlib\n",
        "import solcx\n",
        "from solcx import install_solc\n",
        "solcx.install_solc('0.8.0')\n",
        "from solcx import compile_source\n",
        "from web3 import Web3\n",
        "\n",
        "# Ensure encrypted code is of type bytes\n",
        "encrypted = b\"your_encrypted_code\"  # Replace with your actual encrypted code\n",
        "assert isinstance(encrypted, bytes), \"encrypted variable must be a bytes object\"\n",
        "\n",
        "# Hash the encrypted code\n",
        "hash_object = hashlib.sha256(encrypted)\n",
        "hashed_code = hash_object.hexdigest()\n",
        "\n",
        "# ... (Rest of the code for contract compilation and deployment remains the same)\n",
        "# Solidity contract to store the hashed code\n",
        "contract_source_code = \"\"\"\n",
        "pragma solidity ^0.8.0;\n",
        "\n",
        "contract HashStorage {\n",
        "    string public storedHash;\n",
        "\n",
        "    constructor(string memory initialHash) {\n",
        "        storedHash = initialHash;\n",
        "    }\n",
        "}\n",
        "\"\"\"\n",
        "\n",
        "# Compile the Solidity contract\n",
        "compiled_sol = compile_source(contract_source_code)\n",
        "contract_interface = compiled_sol[\"<stdin>:HashStorage\"]\n",
        "\n",
        "# Connect to a blockchain network (replace with your provider and account details)\n",
        "web3 = Web3(Web3.HTTPProvider(\"https://polygon-mumbai.g.alchemy.com/v2/MLYWql2q6VFgh3DBLDIfRfzsauEXaCXe\"))\n",
        "account = web3.eth.account.from_key(\"738b7647fe6eca1d6c1ced7c05613b6a02dad30cdd55a2eefc5a1a3cfbd5b5ac\")\n",
        "\n",
        "# Deploy the contract\n",
        "contract = web3.eth.contract(abi=contract_interface['abi'], bytecode=contract_interface['bin'])\n",
        "tx_hash = contract.constructor(hashed_code).transact({'from': account.address})\n",
        "\n",
        "# Wait for the transaction to be mined\n",
        "tx_receipt = web3.eth.wait_for_transaction_receipt(tx_hash)\n",
        "\n",
        "print(\"Hashed code stored in contract at address:\", tx_receipt.contractAddress)"
      ],
      "metadata": {
        "id": "UgsCa_HQgdNx"
      },
      "execution_count": null,
      "outputs": []
    },
    {
      "cell_type": "code",
      "source": [
        "solcx.get_installable_solc_versions()"
      ],
      "metadata": {
        "id": "3NaDOseRh-F6"
      },
      "execution_count": null,
      "outputs": []
    },
    {
      "cell_type": "code",
      "source": [
        "solcx.install_solc(\"v0.8.24\")"
      ],
      "metadata": {
        "id": "608TJDpYiNER"
      },
      "execution_count": null,
      "outputs": []
    },
    {
      "cell_type": "code",
      "source": [
        "#from web3.auto.gethdev import w3\n",
        "from web3 import Web3\n",
        "web3 = Web3(Web3.HTTPProvider(\"https://polygon-mumbai.g.alchemy.com/v2/MLYWql2q6VFgh3DBLDIfRfzsauEXaCXe\"))\n",
        "web3.eth.blockNumber()"
      ],
      "metadata": {
        "colab": {
          "base_uri": "https://localhost:8080/",
          "height": 176
        },
        "id": "BywoPux9QiQh",
        "outputId": "b04c63f8-db58-44de-f269-e792a50f35fb"
      },
      "execution_count": null,
      "outputs": [
        {
          "output_type": "error",
          "ename": "AttributeError",
          "evalue": "'Eth' object has no attribute 'blockNumber'",
          "traceback": [
            "\u001b[0;31m---------------------------------------------------------------------------\u001b[0m",
            "\u001b[0;31mAttributeError\u001b[0m                            Traceback (most recent call last)",
            "\u001b[0;32m<ipython-input-17-2b2cdefb5f47>\u001b[0m in \u001b[0;36m<cell line: 4>\u001b[0;34m()\u001b[0m\n\u001b[1;32m      2\u001b[0m \u001b[0;32mfrom\u001b[0m \u001b[0mweb3\u001b[0m \u001b[0;32mimport\u001b[0m \u001b[0mWeb3\u001b[0m\u001b[0;34m\u001b[0m\u001b[0;34m\u001b[0m\u001b[0m\n\u001b[1;32m      3\u001b[0m \u001b[0mweb3\u001b[0m \u001b[0;34m=\u001b[0m \u001b[0mWeb3\u001b[0m\u001b[0;34m(\u001b[0m\u001b[0mWeb3\u001b[0m\u001b[0;34m.\u001b[0m\u001b[0mHTTPProvider\u001b[0m\u001b[0;34m(\u001b[0m\u001b[0;34m\"https://polygon-mumbai.g.alchemy.com/v2/MLYWql2q6VFgh3DBLDIfRfzsauEXaCXe\"\u001b[0m\u001b[0;34m)\u001b[0m\u001b[0;34m)\u001b[0m\u001b[0;34m\u001b[0m\u001b[0;34m\u001b[0m\u001b[0m\n\u001b[0;32m----> 4\u001b[0;31m \u001b[0mweb3\u001b[0m\u001b[0;34m.\u001b[0m\u001b[0meth\u001b[0m\u001b[0;34m.\u001b[0m\u001b[0mblockNumber\u001b[0m\u001b[0;34m(\u001b[0m\u001b[0;34m)\u001b[0m\u001b[0;34m\u001b[0m\u001b[0;34m\u001b[0m\u001b[0m\n\u001b[0m",
            "\u001b[0;31mAttributeError\u001b[0m: 'Eth' object has no attribute 'blockNumber'"
          ]
        }
      ]
    },
    {
      "cell_type": "code",
      "source": [
        "import hashlib\n",
        "class blockStore:\n",
        "  def __init__(self, previous_block_hash, transaction_list):\n",
        "    self.previous_block_hash= previous_block_hash\n",
        "    self.transaction_list= transaction_list\n",
        "\n",
        "    self.block_data= \"-\".join(transaction_list)+ \"-\" + previous_block_hash\n",
        "    self.block_hash= hashlib.sha256(self.block_data.encode()).hexdigest()\n",
        "\n",
        "t1= \"vI\\xe4hHP\\xa6\\xfb=\\x83\\xf0\\xff\\x90\\xfa\\xb5\\xb0\"\n",
        "t2=  'o\\xfd\\xb3\\x80\\xa2LX\\xd5:\\x0f!N~\\x1c\\xc5\\xac.\\xc4\\x8f\\x1b|#D\"\\x00M\\xa4x:\\x83\\xd4s'\n",
        "t3= \"\\xdc1v2\\xa0\\xb6\\xc4\\x95\\xb1\\x86\\x8f\\x11f(\\x84Eq\\xc7\\xdd\\xf5R\\xaaZ\\xfd=\\x7ffB\\xa7\\xcc\\xcb\\xce\"\n",
        "t4= '{+-n|\\xd4$\\xb6m\\xda$\\r\\xf5\\xaa\\xab\\x90\"M\\xaeh\\xe7\\xa2\\x8f\\xb3\\xa0\\x9e\\xc8\\xc0.\\xf2_\\x0e'\n",
        "\n",
        "#block-1\n",
        "first_block= blockStore(\"starting value\", [t1, t2])\n",
        "\n",
        "print(first_block.block_data)\n",
        "print(first_block.block_hash)\n",
        "\n",
        "#block-2\n",
        "second_block= blockStore(first_block.block_hash, [t1, t2])\n",
        "\n",
        "print(second_block.block_data)\n",
        "print(second_block.block_hash)\n",
        "\n",
        "#block-3\n",
        "third_block= blockStore(second_block.block_hash, [t1, t2])\n",
        "\n",
        "print(third_block.block_data)\n",
        "print(third_block.block_hash)\n",
        "\n",
        "print(\"*******************\")\n",
        "#complete hash value of the blockchain\n",
        "print(first_block.block_hash+\" data: \"+first_block.block_data+\" --> \"+second_block.block_hash+\" data: \"+second_block.block_data+\" --> \"+third_block.block_hash+\" data: \"+third_block.block_data)\n"
      ],
      "metadata": {
        "colab": {
          "base_uri": "https://localhost:8080/"
        },
        "id": "gRikEL5y2sIK",
        "outputId": "08177417-6ffe-4d1a-b48f-8a425444ed13"
      },
      "execution_count": null,
      "outputs": [
        {
          "output_type": "stream",
          "name": "stdout",
          "text": [
            "vIähHP¦û=ðÿúµ°-oý³¢LXÕ:\u000f!N~\u001cÅ¬.Ä\u001b|#D\"\u0000M¤x:Ôs-starting value\n",
            "6c47284fc600341c3c2b5af35c8e41970a8b3b0346eb3aa722163f05c6463b49\n",
            "vIähHP¦û=ðÿúµ°-oý³¢LXÕ:\u000f!N~\u001cÅ¬.Ä\u001b|#D\"\u0000M¤x:Ôs-6c47284fc600341c3c2b5af35c8e41970a8b3b0346eb3aa722163f05c6463b49\n",
            "889b90812e0b655bc6352c5b68152d10427ae67596b29182778fe14cbc14663a\n",
            "vIähHP¦û=ðÿúµ°-oý³¢LXÕ:\u000f!N~\u001cÅ¬.Ä\u001b|#D\"\u0000M¤x:Ôs-889b90812e0b655bc6352c5b68152d10427ae67596b29182778fe14cbc14663a\n",
            "921c03fbbe26b63507ed89c83ba560d4cb7b8c52a413cdad0a7fa9d13c6c9e63\n",
            "*******************\n",
            "6c47284fc600341c3c2b5af35c8e41970a8b3b0346eb3aa722163f05c6463b49 data: vIähHP¦û=ðÿúµ°-oý³¢LXÕ:\u000f!N~\u001cÅ¬.Ä\u001b|#D\"\u0000M¤x:Ôs-starting value --> 889b90812e0b655bc6352c5b68152d10427ae67596b29182778fe14cbc14663a data: vIähHP¦û=ðÿúµ°-oý³¢LXÕ:\u000f!N~\u001cÅ¬.Ä\u001b|#D\"\u0000M¤x:Ôs-6c47284fc600341c3c2b5af35c8e41970a8b3b0346eb3aa722163f05c6463b49 --> 921c03fbbe26b63507ed89c83ba560d4cb7b8c52a413cdad0a7fa9d13c6c9e63 data: vIähHP¦û=ðÿúµ°-oý³¢LXÕ:\u000f!N~\u001cÅ¬.Ä\u001b|#D\"\u0000M¤x:Ôs-889b90812e0b655bc6352c5b68152d10427ae67596b29182778fe14cbc14663a\n"
          ]
        }
      ]
    },
    {
      "cell_type": "code",
      "source": [
        "#IMPLEMENTATION OF AES WITH QKD KEY ON TEXT\n",
        "\n",
        "import os\n",
        "import random\n",
        "from cryptography.hazmat.primitives.ciphers import Cipher, algorithms, modes\n",
        "from cryptography.hazmat.backends import default_backend\n",
        "from cryptography.hazmat.primitives import padding\n",
        "\n",
        "\n",
        "# Simulated QKD key exchange (still a simplification)\n",
        "def simulate_qkd(key_size):\n",
        "    alice_key = os.urandom(key_size // 8)\n",
        "    bob_key = os.urandom(key_size // 8)\n",
        "\n",
        "    # Incorporate a more realistic error simulation\n",
        "    error_rate = 0.05  # Assume a 5% error rate\n",
        "    num_errors = int(error_rate * len(alice_key))\n",
        "    error_positions = random.sample(range(len(alice_key)), num_errors)\n",
        "    for i in error_positions:\n",
        "        alice_key[i] = 1 - alice_key[i]  # Flip bits for errors\n",
        "\n",
        "    # Basic error correction (example, not robust)\n",
        "    alice_corrected = correct_errors(alice_key, bob_key)\n",
        "\n",
        "    return alice_corrected, bob_key\n",
        "\n",
        "\n",
        "# Function to correct errors (basic example, not secure for real-world QKD)\n",
        "def correct_errors(alice_key, bob_key):\n",
        "    corrected_key = bytearray(alice_key)\n",
        "    for i in range(len(alice_key)):\n",
        "        if alice_key[i] != bob_key[i]:\n",
        "            corrected_key[i] = bob_key[i]  # Assume Bob's key is correct\n",
        "    return corrected_key\n",
        "\n",
        "\n",
        "# AES encryption function with padding\n",
        "def encrypt(message: str, key: bytes) -> str:\n",
        "    \"\"\"Encrypts the message using AES with QKD key and returns a string.\"\"\"\n",
        "    backend = default_backend()\n",
        "    padded_data = padding.PKCS7(algorithms.AES.block_size).padder().update(message.encode()) + padding.PKCS7(algorithms.AES.block_size).padder().finalize()\n",
        "    cipher = Cipher(algorithms.AES(key), modes.ECB(), backend=backend)\n",
        "    encryptor = cipher.encryptor()\n",
        "    ciphertext = encryptor.update(padded_data) + encryptor.finalize()\n",
        "    return ciphertext.decode()  # Decode to string\n",
        "\n",
        "def decrypt(ciphertext: str, key: bytes) -> str:\n",
        "    \"\"\"Decrypts the ciphertext using AES with QKD key and returns a string.\"\"\"\n",
        "    backend = default_backend()\n",
        "    cipher = Cipher(algorithms.AES(key), modes.ECB(), backend=backend)\n",
        "    decryptor = cipher.decryptor()\n",
        "    padded_data = decryptor.update(ciphertext.encode()) + decryptor.finalize()\n",
        "    data = padding.PKCS7(algorithms.AES.block_size).unpadder().update(padded_data) + padding.PKCS7(algorithms.AES.block_size).unpadder().finalize()\n",
        "    return data.decode()  # Decode to string\n",
        "\n",
        "# Example usage (with user input)\n",
        "key_size = 128\n",
        "encryption_key, _ = simulate_qkd(key_size)\n",
        "\n",
        "user_message = input(\"Enter the message to encrypt: \")\n",
        "\n",
        "ciphertext = encrypt(user_message, encryption_key)\n",
        "print(\"Ciphertext:\", ciphertext)  # Will now print a string\n",
        "\n",
        "decrypted_message = decrypt(ciphertext, encryption_key)\n",
        "print(\"Decrypted message:\", decrypted_message)  # Will now print a string"
      ],
      "metadata": {
        "id": "tDsBh7Gg-tO5"
      },
      "execution_count": null,
      "outputs": []
    },
    {
      "cell_type": "code",
      "source": [
        "data = b\"'\\x8c\\xb9\\xf0\\xd5\\xdf;\\xd4\\xcd\\x0c,\\x91\\xfba\"\n",
        "\n",
        "# Try decoding with different encodings (may not all be valid)\n",
        "result_utf8 = data.decode('utf-8')\n",
        "print(result_utf8)"
      ],
      "metadata": {
        "colab": {
          "base_uri": "https://localhost:8080/",
          "height": 193
        },
        "id": "-dEWnwXP_q1F",
        "outputId": "ab74be70-d0f3-439d-ae54-b2360a71283d"
      },
      "execution_count": null,
      "outputs": [
        {
          "output_type": "error",
          "ename": "UnicodeDecodeError",
          "evalue": "'utf-8' codec can't decode byte 0x8c in position 1: invalid start byte",
          "traceback": [
            "\u001b[0;31m---------------------------------------------------------------------------\u001b[0m",
            "\u001b[0;31mUnicodeDecodeError\u001b[0m                        Traceback (most recent call last)",
            "\u001b[0;32m<ipython-input-21-b016cfc2aec8>\u001b[0m in \u001b[0;36m<cell line: 4>\u001b[0;34m()\u001b[0m\n\u001b[1;32m      2\u001b[0m \u001b[0;34m\u001b[0m\u001b[0m\n\u001b[1;32m      3\u001b[0m \u001b[0;31m# Try decoding with different encodings (may not all be valid)\u001b[0m\u001b[0;34m\u001b[0m\u001b[0;34m\u001b[0m\u001b[0m\n\u001b[0;32m----> 4\u001b[0;31m \u001b[0mresult_utf8\u001b[0m \u001b[0;34m=\u001b[0m \u001b[0mdata\u001b[0m\u001b[0;34m.\u001b[0m\u001b[0mdecode\u001b[0m\u001b[0;34m(\u001b[0m\u001b[0;34m'utf-8'\u001b[0m\u001b[0;34m)\u001b[0m\u001b[0;34m\u001b[0m\u001b[0;34m\u001b[0m\u001b[0m\n\u001b[0m\u001b[1;32m      5\u001b[0m \u001b[0mprint\u001b[0m\u001b[0;34m(\u001b[0m\u001b[0mresult_utf8\u001b[0m\u001b[0;34m)\u001b[0m\u001b[0;34m\u001b[0m\u001b[0;34m\u001b[0m\u001b[0m\n",
            "\u001b[0;31mUnicodeDecodeError\u001b[0m: 'utf-8' codec can't decode byte 0x8c in position 1: invalid start byte"
          ]
        }
      ]
    }
  ]
}